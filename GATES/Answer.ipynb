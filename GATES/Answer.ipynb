{
  "nbformat": 4,
  "nbformat_minor": 0,
  "metadata": {
    "colab": {
      "provenance": []
    },
    "kernelspec": {
      "name": "python3",
      "display_name": "Python 3"
    },
    "language_info": {
      "name": "python"
    }
  },
  "cells": [
    {
      "cell_type": "code",
      "execution_count": 1,
      "metadata": {
        "id": "Sp1NS8Vv-TYR"
      },
      "outputs": [],
      "source": [
        "import numpy as np"
      ]
    },
    {
      "cell_type": "code",
      "source": [
        "def step(v):\n",
        "\tif v>=0:\n",
        "\t\treturn 1\n",
        "\treturn 0\n",
        "\t\n",
        "def perceptron(x, w, b):\n",
        "\ty = np.dot(w, x) + b\n",
        "\treturn step(y)"
      ],
      "metadata": {
        "id": "bj36s4Ho-7yk"
      },
      "execution_count": 2,
      "outputs": []
    },
    {
      "cell_type": "markdown",
      "source": [
        "1. AND"
      ],
      "metadata": {
        "id": "oQoRFzb3_HVB"
      }
    },
    {
      "cell_type": "code",
      "source": [
        "def AND(x):\n",
        "    w = np.array([1, 1])\n",
        "    b = -2\n",
        "    return perceptron(x, w, b)"
      ],
      "metadata": {
        "id": "Rcn9UmAY_II4"
      },
      "execution_count": 3,
      "outputs": []
    },
    {
      "cell_type": "code",
      "source": [
        "p1 = np.array([1, 1])\n",
        "p2 = np.array([1, 0])\n",
        "p3 = np.array([0, 1])\n",
        "p4 = np.array([0, 0])\n",
        "\n",
        "print(\"AND(1,1) =\",AND(p1))\n",
        "print(\"AND(1,0) =\",AND(p2))\n",
        "print(\"AND(0,1) =\",AND(p3))\n",
        "print(\"AND(0,0) =\",AND(p4))"
      ],
      "metadata": {
        "colab": {
          "base_uri": "https://localhost:8080/"
        },
        "id": "oPyAyMMw_MYN",
        "outputId": "e516df83-3f53-4fb7-a8c4-ee5a4840b0fa"
      },
      "execution_count": 4,
      "outputs": [
        {
          "output_type": "stream",
          "name": "stdout",
          "text": [
            "AND(1,1) = 1\n",
            "AND(1,0) = 0\n",
            "AND(0,1) = 0\n",
            "AND(0,0) = 0\n"
          ]
        }
      ]
    },
    {
      "cell_type": "markdown",
      "source": [
        "2. OR"
      ],
      "metadata": {
        "id": "DaL3cZBJ_oLa"
      }
    },
    {
      "cell_type": "code",
      "source": [
        "def OR(x):\n",
        "    w = np.array([1, 1])\n",
        "    b = -1\n",
        "    return perceptron(x, w, b)"
      ],
      "metadata": {
        "id": "LUfctsjO_pXV"
      },
      "execution_count": 5,
      "outputs": []
    },
    {
      "cell_type": "code",
      "source": [
        "p1 = np.array([1, 1])\n",
        "p2 = np.array([1, 0])\n",
        "p3 = np.array([0, 1])\n",
        "p4 = np.array([0, 0])\n",
        "\n",
        "print(\"OR(1,1) =\",OR(p1))\n",
        "print(\"OR(1,0) =\",OR(p2))\n",
        "print(\"OR(0,1) =\",OR(p3))\n",
        "print(\"OR(0,0) =\",OR(p4))"
      ],
      "metadata": {
        "colab": {
          "base_uri": "https://localhost:8080/"
        },
        "id": "Hj3X114q_xhQ",
        "outputId": "b78c848a-1dd6-43eb-d2eb-3445f13e92c6"
      },
      "execution_count": 7,
      "outputs": [
        {
          "output_type": "stream",
          "name": "stdout",
          "text": [
            "OR(1,1) = 1\n",
            "OR(1,0) = 1\n",
            "OR(0,1) = 1\n",
            "OR(0,0) = 0\n"
          ]
        }
      ]
    },
    {
      "cell_type": "markdown",
      "source": [
        "3. NOT"
      ],
      "metadata": {
        "id": "DuFbOLxHAdr6"
      }
    },
    {
      "cell_type": "code",
      "source": [
        "def NOT(x):\n",
        "  w=-1\n",
        "  b=0.5\n",
        "  return perceptron(x,w,b)\n",
        "\n",
        "print(\"NOT(0) =\",NOT(0))\n",
        "print(\"NOT(1) =\",NOT(1))"
      ],
      "metadata": {
        "colab": {
          "base_uri": "https://localhost:8080/"
        },
        "id": "fMAmXVY4_85R",
        "outputId": "f23ebe52-2ee6-4927-bab1-5b38c358cb79"
      },
      "execution_count": 11,
      "outputs": [
        {
          "output_type": "stream",
          "name": "stdout",
          "text": [
            "NOT(0) = 1\n",
            "NOT(1) = 0\n"
          ]
        }
      ]
    },
    {
      "cell_type": "markdown",
      "source": [
        "4. NOR"
      ],
      "metadata": {
        "id": "7sPH08sKApig"
      }
    },
    {
      "cell_type": "code",
      "source": [
        "def NOR(x):\n",
        "    return NOT(OR(x))"
      ],
      "metadata": {
        "id": "Sk6YNohWAe2n"
      },
      "execution_count": 12,
      "outputs": []
    },
    {
      "cell_type": "code",
      "source": [
        "print(\"NOR(1,1) =\",NOR(p1))\n",
        "print(\"NOR(1,0) =\",NOR(p2))\n",
        "print(\"NOR(0,1) =\",NOR(p3))\n",
        "print(\"NOR(0,0) =\",NOR(p4))"
      ],
      "metadata": {
        "colab": {
          "base_uri": "https://localhost:8080/"
        },
        "id": "hO7rg6Q5A0tu",
        "outputId": "b94d7a15-9d42-46fc-ceba-1760c184aa69"
      },
      "execution_count": 13,
      "outputs": [
        {
          "output_type": "stream",
          "name": "stdout",
          "text": [
            "NOR(1,1) = 0\n",
            "NOR(1,0) = 0\n",
            "NOR(0,1) = 0\n",
            "NOR(0,0) = 1\n"
          ]
        }
      ]
    },
    {
      "cell_type": "markdown",
      "source": [
        "5. NAND"
      ],
      "metadata": {
        "id": "IKjRV1N2A0O9"
      }
    },
    {
      "cell_type": "code",
      "source": [
        "def NAND(x):\n",
        "    return NOT(AND(x))"
      ],
      "metadata": {
        "id": "0PgjYiqmBBAO"
      },
      "execution_count": 14,
      "outputs": []
    },
    {
      "cell_type": "code",
      "source": [
        "p1 = np.array([1, 1])\n",
        "p2 = np.array([1, 0])\n",
        "p3 = np.array([0, 1])\n",
        "p4 = np.array([0, 0])\n",
        "\n",
        "print(\"NAND(1,1) =\",NAND(p1))\n",
        "print(\"NAND(1,0) =\",NAND(p2))\n",
        "print(\"NAND(0,1) =\",NAND(p3))\n",
        "print(\"NAND(0,0) =\",NAND(p4))"
      ],
      "metadata": {
        "colab": {
          "base_uri": "https://localhost:8080/"
        },
        "id": "Bzt26vqKBIEQ",
        "outputId": "fc67e50a-0b4f-41a9-9301-c612ad2f4c4e"
      },
      "execution_count": 15,
      "outputs": [
        {
          "output_type": "stream",
          "name": "stdout",
          "text": [
            "NAND(1,1) = 0\n",
            "NAND(1,0) = 1\n",
            "NAND(0,1) = 1\n",
            "NAND(0,0) = 1\n"
          ]
        }
      ]
    },
    {
      "cell_type": "markdown",
      "source": [
        "6. XOR"
      ],
      "metadata": {
        "id": "_R-bDaP8BPvF"
      }
    },
    {
      "cell_type": "code",
      "source": [
        "def EXOR(x):\n",
        "    return AND(np.array([NAND(x),OR(x)]))"
      ],
      "metadata": {
        "id": "2GDOug59BQ2G"
      },
      "execution_count": 16,
      "outputs": []
    },
    {
      "cell_type": "code",
      "source": [
        "p1 = np.array([1, 1])\n",
        "p2 = np.array([1, 0])\n",
        "p3 = np.array([0, 1])\n",
        "p4 = np.array([0, 0])\n",
        "\n",
        "print(\"EXOR(1,1) =\",EXOR(p1))\n",
        "print(\"EXOR(1,0) =\",EXOR(p2))\n",
        "print(\"EXOR(0,1) =\",EXOR(p3))\n",
        "print(\"EXOR(0,0) =\",EXOR(p4))"
      ],
      "metadata": {
        "colab": {
          "base_uri": "https://localhost:8080/"
        },
        "id": "0fobR7DWBaAV",
        "outputId": "4f458ab4-96b5-4d0d-c445-6dae6d7bae47"
      },
      "execution_count": 18,
      "outputs": [
        {
          "output_type": "stream",
          "name": "stdout",
          "text": [
            "EXOR(1,1) = 0\n",
            "EXOR(1,0) = 1\n",
            "EXOR(0,1) = 1\n",
            "EXOR(0,0) = 0\n"
          ]
        }
      ]
    }
  ]
}