{
  "nbformat": 4,
  "nbformat_minor": 0,
  "metadata": {
    "colab": {
      "provenance": []
    },
    "kernelspec": {
      "name": "python3",
      "display_name": "Python 3"
    },
    "language_info": {
      "name": "python"
    }
  },
  "cells": [
    {
      "cell_type": "code",
      "execution_count": null,
      "metadata": {
        "id": "QBF0h9Tpl947"
      },
      "outputs": [],
      "source": [
        "import pandas as pd\n",
        "import numpy as np\n",
        "import matplotlib.pyplot as plt\n",
        "import math "
      ]
    },
    {
      "cell_type": "code",
      "source": [
        "def func(X,w,b):\n",
        "  return np.dot(X,w) + b"
      ],
      "metadata": {
        "id": "p_yWMizYAlEI"
      },
      "execution_count": null,
      "outputs": []
    },
    {
      "cell_type": "code",
      "source": [
        "def sig(yin):\n",
        "  return 1/(1+ math.exp(-yin))"
      ],
      "metadata": {
        "id": "78A5d9ZJAnO8"
      },
      "execution_count": null,
      "outputs": []
    },
    {
      "cell_type": "code",
      "source": [
        "def mse(yhat,y):\n",
        "  mse=0\n",
        "  # print(yhat,y)\n",
        "  for i in range(len(y)):\n",
        "    mse+=(yhat[i]-y[i])**2\n",
        "  return mse/2"
      ],
      "metadata": {
        "id": "YwvQQ8fMOXOT"
      },
      "execution_count": null,
      "outputs": []
    },
    {
      "cell_type": "code",
      "source": [
        "def plot_mse(mse_list,epochs):\n",
        "  x=[i for i in range(epochs)]\n",
        "  plt.plot(x,mse_list)"
      ],
      "metadata": {
        "id": "gRUe9EOtPJPo"
      },
      "execution_count": null,
      "outputs": []
    },
    {
      "cell_type": "markdown",
      "source": [
        "##Stochastic Gradient Descent"
      ],
      "metadata": {
        "id": "2MoHiQsWAqsz"
      }
    },
    {
      "cell_type": "code",
      "source": [
        "def stochastic_gd (X,Y):\n",
        "  w,b,c,epoch = -2,-2,1,300\n",
        "  mse_list=[]\n",
        "  for i in range(epoch):\n",
        "    result = []\n",
        "    for x,y in zip(X,Y):\n",
        "      yhat = sig(func(x,w,b))\n",
        "      delw = c*(y-yhat)*yhat*(1-yhat)*x\n",
        "      delb = c*(y-yhat)*yhat*(1-yhat)\n",
        "      w += delw\n",
        "      b += delb\n",
        "      result.append(yhat)\n",
        "      if (len(result)==len(Y)):\n",
        "        mse_list.append(mse(result,Y))\n",
        "    print(f\"Epoch: {i+1}\\tWeight: {w}, Bias: {b}\\t y_hat: {result}\\t MSE: {mse_list[-1]}\")\n",
        "  plot_mse(mse_list,epoch)\n",
        "  print(f\"\\n\\nFinal weights: {w}\\tBias {b}\\t\\tMean Squared Error: {mse_list[-1]}\")"
      ],
      "metadata": {
        "id": "tYw_ytl49rw6"
      },
      "execution_count": null,
      "outputs": []
    },
    {
      "cell_type": "markdown",
      "source": [
        "Taking the dataset with initial value of X = [0.5, 2.5], Y= [0.2, 0.9] \n",
        "\n",
        "Initializing a neural network with random weights - weight = -2, bias= -2 and constant (c) = 1.\n"
      ],
      "metadata": {
        "id": "8-eK7QZtwV8l"
      }
    },
    {
      "cell_type": "code",
      "source": [
        "X = [0.5,2.5]\n",
        "Y = [0.2,0.9]\n",
        "stochastic_gd(X,Y)"
      ],
      "metadata": {
        "id": "q_XSZ0x4A64Z"
      },
      "execution_count": null,
      "outputs": []
    },
    {
      "cell_type": "markdown",
      "source": [
        "For each of the 300 epochs, we \n",
        "calculate the mean squared error, \n",
        "note the weight and bias changes.\n"
      ],
      "metadata": {
        "id": "w2-b23Y3wp_j"
      }
    },
    {
      "cell_type": "markdown",
      "source": [
        "Finally, we also plot the graph of MSE against the epoch and we get\n",
        "\n",
        " Final weights: 1.7374342738186377\tBias -2.202814158199366\t\tMean Squared Error: 5.223759084367854e-05 using Stochastic Gradient Descent."
      ],
      "metadata": {
        "id": "TPU4FmrkxC-V"
      }
    },
    {
      "cell_type": "markdown",
      "source": [
        "##Batch Gradient Descent"
      ],
      "metadata": {
        "id": "FKJJFMeBAco0"
      }
    },
    {
      "cell_type": "code",
      "source": [
        "def batch_gd (X,Y):\n",
        "  w,b,c,epoch = -2,-2,1,300\n",
        "  mse_list=[]\n",
        "  for i in range(epoch):\n",
        "    result = []\n",
        "    delw=delb=0\n",
        "    for x,y in zip(X,Y):\n",
        "      yhat = sig(func(x,w,b))\n",
        "      delw += c*(y-yhat)*yhat*(1-yhat)*x\n",
        "      delb += c*(y-yhat)*yhat*(1-yhat)\n",
        "      result.append(yhat)\n",
        "      if (len(result)==len(Y)):\n",
        "        mse_list.append(mse(result,Y))\n",
        "    delw = delw/len(Y)\n",
        "    delb = delb/len(Y)\n",
        "    w += delw\n",
        "    b += delb\n",
        "    print(f\"Epoch: {i+1}\\tWeight: {w}, Bias: {b}\\t y_hat: {result}\\t MSE: {mse_list[-1]}\")\n",
        "  plot_mse(mse_list,epoch)\n",
        "  print(f\"\\n\\nFinal weights: {w}\\tBias {b}\\tMean Squared Error: {mse_list[-1]}\")\n"
      ],
      "metadata": {
        "id": "DLCH4-Ti_eDY"
      },
      "execution_count": null,
      "outputs": []
    },
    {
      "cell_type": "code",
      "source": [
        "X = [0.5,2.5]\n",
        "Y = [0.2,0.9]\n",
        "batch_gd(X,Y)"
      ],
      "metadata": {
        "id": "Kv0pwwPaA1rG"
      },
      "execution_count": null,
      "outputs": []
    },
    {
      "cell_type": "markdown",
      "source": [
        "For each of the 300 epochs, we \n",
        "calculate the mean squared error, \n",
        "note the weight and bias changes.\n"
      ],
      "metadata": {
        "id": "zbrhhrwjxoXw"
      }
    },
    {
      "cell_type": "markdown",
      "source": [
        "Finally, we also plot the graph of MSE against the epoch and we get\n",
        "\n",
        "Final weights: 1.4418720872208577\tBias -1.7602101517624822\tMean Squared Error: 0.002585845364868681 using Batch Gradient Descent."
      ],
      "metadata": {
        "id": "zOy9JnHrxsYA"
      }
    }
  ]
}